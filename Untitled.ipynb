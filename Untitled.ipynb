{
 "cells": [
  {
   "cell_type": "code",
   "execution_count": 1,
   "id": "6a8abc57-5f12-41fe-b30b-73e74b26180b",
   "metadata": {},
   "outputs": [],
   "source": [
    "import os\n",
    "from typing import List\n",
    "import easyocr\n",
    "\n"
   ]
  },
  {
   "cell_type": "code",
   "execution_count": 2,
   "id": "2e46e04e-d9e4-437d-98dc-b1226473e53e",
   "metadata": {},
   "outputs": [
    {
     "name": "stderr",
     "output_type": "stream",
     "text": [
      "Neither CUDA nor MPS are available - defaulting to CPU. Note: This module is much faster with a GPU.\n"
     ]
    }
   ],
   "source": [
    "reader = easyocr.Reader(['en'], gpu=True)\n",
    "\n"
   ]
  },
  {
   "cell_type": "code",
   "execution_count": 30,
   "id": "28c928ca-a0d8-486b-b61d-25313f6f5457",
   "metadata": {},
   "outputs": [
    {
     "data": {
      "text/plain": [
       "'PNR: 4564307105 Your Ticket is Confirmed 16589 Rani Chennamma Class: SL 04 Aug; I1.00 pm 05 06.28 am SBC 7h 28m DWR Ksr Bengaluru Dharwar Chart Not Prepared Updated few min ago Raghavendra k CNF Confirm Middle Berth Akash PK CNF Confirm Middle Berth Please note that your ticket status is liable to change anytime till chart is prepared: Aug;'"
      ]
     },
     "execution_count": 30,
     "metadata": {},
     "output_type": "execute_result"
    }
   ],
   "source": [
    "def ocr_scan(image_path: str) -> str:\n",
    "    result = reader.readtext(str(image_path))\n",
    "    recognized_text = \" \".join(elem[1] for elem in result)\n",
    "\n",
    "    return recognized_text\n",
    "\n",
    "def search_images():\n",
    "    pass\n",
    "\n",
    "image_path = \"./er.PNG\"\n",
    "ocr_scan(image_path)"
   ]
  },
  {
   "cell_type": "code",
   "execution_count": 35,
   "id": "dad622e7-28f2-4f23-a4f3-82abfc59534b",
   "metadata": {},
   "outputs": [],
   "source": [
    "def search_images(directory: str, keyword: str) -> List[str]:\n",
    "    matching_images = []\n",
    "    for root, _, files in os.walk(directory):\n",
    "        for file in files:\n",
    "            if file.lower().endswith((\".png\", \".jpg\", \".gif\", \".pdf\", \".jpeg\")):\n",
    "                image_path = os.path.join(root, file)\n",
    "                detected_text = ocr_scan(image_path)\n",
    "                if keyword.lower() in detected_text.lower():\n",
    "                    matching_images.append(image_path)\n",
    "    return matching_images"
   ]
  },
  {
   "cell_type": "code",
   "execution_count": 37,
   "id": "85af0cfc-c3c8-4d83-af0b-ec637d684aad",
   "metadata": {},
   "outputs": [
    {
     "name": "stdout",
     "output_type": "stream",
     "text": [
      "['.\\\\er.png']\n"
     ]
    }
   ],
   "source": [
    "results = search_images(\".\", keyword=\"Dharwar\")\n",
    "print(results"
   ]
  },
  {
   "cell_type": "code",
   "execution_count": null,
   "id": "5140d70f-5157-4718-a304-6e34051215ae",
   "metadata": {},
   "outputs": [],
   "source": []
  }
 ],
 "metadata": {
  "kernelspec": {
   "display_name": "Python 3 (ipykernel)",
   "language": "python",
   "name": "python3"
  },
  "language_info": {
   "codemirror_mode": {
    "name": "ipython",
    "version": 3
   },
   "file_extension": ".py",
   "mimetype": "text/x-python",
   "name": "python",
   "nbconvert_exporter": "python",
   "pygments_lexer": "ipython3",
   "version": "3.12.2"
  }
 },
 "nbformat": 4,
 "nbformat_minor": 5
}
